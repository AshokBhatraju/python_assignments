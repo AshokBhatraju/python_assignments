{
 "cells": [
  {
   "cell_type": "code",
   "execution_count": 1,
   "metadata": {},
   "outputs": [
    {
     "name": "stdout",
     "output_type": "stream",
     "text": [
      "{3: 1657, 1: 1628, 6: 1641, 5: 1695, 4: 1727, 2: 1652}\n"
     ]
    }
   ],
   "source": [
    "import random\n",
    "def sim_dice():\n",
    "    my_dict={}\n",
    "    for i in range(10000):\n",
    "        num=random.randint(1,6)\n",
    "        if num in my_dict.keys():\n",
    "            my_dict[num]=my_dict[num]+1\n",
    "        else:\n",
    "                my_dict[num]=1\n",
    "    return my_dict\n",
    "print(sim_dice())"
   ]
  },
  {
   "cell_type": "code",
   "execution_count": 2,
   "metadata": {},
   "outputs": [
    {
     "name": "stdout",
     "output_type": "stream",
     "text": [
      "7\n"
     ]
    }
   ],
   "source": [
    "def sent_compare(sentence1, sentence2):\n",
    "    my_list=[]\n",
    "    sentence1=sentence1.lower()\n",
    "    sentence2=sentence2.lower()\n",
    "    for ch in sentence1:\n",
    "        if ch in sentence2:\n",
    "            my_list.append(ch)\n",
    "    return len(set(my_list))\n",
    "sentence1 = \"I love Batman\"\n",
    "sentence2 = \"I love Cricket\"\n",
    "print(sent_compare(sentence1,sentence2))"
   ]
  },
  {
   "cell_type": "code",
   "execution_count": 3,
   "metadata": {},
   "outputs": [
    {
     "name": "stdout",
     "output_type": "stream",
     "text": [
      "['I like sports', 'including cricket', 'soccer', 'tennis', 'american football and badminton', 'shuttle']\n"
     ]
    }
   ],
   "source": [
    "def sent_split(sentence,delimiter1,delimiter2):\n",
    "    sentence=sentence.replace(delimiter1,delimiter2).split(delimiter2)\n",
    "    my_list=[]\n",
    "    for i in range(len(sentence)):\n",
    "        my_list.append(sentence[i].strip())\n",
    "    return my_list\n",
    "sentence=\"I like sports, including cricket, soccer, tennis, american football and badminton/shuttle\"\n",
    "delimiter1=','\n",
    "delimiter2='/'\n",
    "print (sent_split(sentence,delimiter1,delimiter2))"
   ]
  },
  {
   "cell_type": "code",
   "execution_count": null,
   "metadata": {},
   "outputs": [],
   "source": []
  }
 ],
 "metadata": {
  "kernelspec": {
   "display_name": "Python 3",
   "language": "python",
   "name": "python3"
  },
  "language_info": {
   "codemirror_mode": {
    "name": "ipython",
    "version": 3
   },
   "file_extension": ".py",
   "mimetype": "text/x-python",
   "name": "python",
   "nbconvert_exporter": "python",
   "pygments_lexer": "ipython3",
   "version": "3.7.4"
  }
 },
 "nbformat": 4,
 "nbformat_minor": 2
}
